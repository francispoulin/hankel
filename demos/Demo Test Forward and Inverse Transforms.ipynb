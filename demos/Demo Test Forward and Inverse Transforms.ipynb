{
 "cells": [
  {
   "cell_type": "markdown",
   "metadata": {},
   "source": [
    "# Testing Forward and Inverse Hankel Transform #\n",
    "\n",
    "This is a simple demo to show how to compute the forward and inverse Hankel transform."
   ]
  },
  {
   "cell_type": "code",
   "execution_count": 2,
   "metadata": {
    "collapsed": false
   },
   "outputs": [],
   "source": [
    "# Import libraries\n",
    "\n",
    "import numpy as np                                                      # To define grid\n",
    "from hankel import HankelTransform                                      # Transforms\n",
    "\n",
    "from scipy.interpolate import InterpolatedUnivariateSpline as spline    # Spline\n",
    "\n",
    "import matplotlib.pyplot as plt                                         # Plotting\n",
    "%matplotlib inline"
   ]
  },
  {
   "cell_type": "markdown",
   "metadata": {},
   "source": [
    "We define a function to use an example.  \n",
    "\n",
    "This function is unbounded at $x=0$ and therefore causes problems with convergence at the origin. "
   ]
  },
  {
   "cell_type": "code",
   "execution_count": 3,
   "metadata": {
    "collapsed": false
   },
   "outputs": [],
   "source": [
    "# Define grid\n",
    "\n",
    "r = np.linspace(1e-2,1,1000)                       # Define a physical grid\n",
    "k = np.logspace(-3,2,100)                          # Define a spectral grid"
   ]
  },
  {
   "cell_type": "code",
   "execution_count": 5,
   "metadata": {
    "collapsed": false
   },
   "outputs": [],
   "source": [
    "# Compute Forward Hankel transform\n",
    "\n",
    "f    = lambda x : 1/x                              # Sample Function\n",
    "h    = HankelTransform(nu=0,N=1000,h=0.005)        # Create the HankelTransform instance, order zero\n",
    "hhat = h.transform(f,k,ret_err=False)              # Return the transform of f at k."
   ]
  },
  {
   "cell_type": "code",
   "execution_count": 6,
   "metadata": {
    "collapsed": false
   },
   "outputs": [],
   "source": [
    "# Compute Inverse Hankel transform\n",
    "\n",
    "hhat_sp = spline(k, hhat)                              # Define a spline to approximate transform\n",
    "f_new = h.transform(hhat_sp, r, False, inverse=True)  # Compute the inverse transform"
   ]
  },
  {
   "cell_type": "code",
   "execution_count": 7,
   "metadata": {
    "collapsed": false
   },
   "outputs": [
    {
     "data": {
      "image/png": "[encoded data removed]",
      "text/plain": [
       "<matplotlib.figure.Figure at 0x7f0a6f125b50>"
      ]
     },
     "metadata": {},
     "output_type": "display_data"
    }
   ],
   "source": [
    "# Plot the original function and the transformed functions\n",
    "\n",
    "plt.semilogy(r,f(r),'-b',  linewidth=2,label='old')\n",
    "plt.semilogy(r,f_new,'--r',linewidth=2,label='new')\n",
    "plt.grid('on')\n",
    "plt.legend(loc='best')\n",
    "plt.axis('on')\n",
    "plt.show()"
   ]
  },
  {
   "cell_type": "code",
   "execution_count": null,
   "metadata": {
    "collapsed": true
   },
   "outputs": [],
   "source": []
  }
 ],
 "metadata": {
  "kernelspec": {
   "display_name": "Python 2",
   "language": "python",
   "name": "python2"
  },
  "language_info": {
   "codemirror_mode": {
    "name": "ipython",
    "version": 2
   },
   "file_extension": ".py",
   "mimetype": "text/x-python",
   "name": "python",
   "nbconvert_exporter": "python",
   "pygments_lexer": "ipython2",
   "version": "2.7.12"
  }
 },
 "nbformat": 4,
 "nbformat_minor": 0
}
