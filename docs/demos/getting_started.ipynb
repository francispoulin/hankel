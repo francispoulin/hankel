{
 "cells": [
  {
   "cell_type": "markdown",
   "metadata": {
    "collapsed": true
   },
   "source": [
    "# Getting Started with Hankel"
   ]
  },
  {
   "cell_type": "markdown",
   "metadata": {},
   "source": [
    "## Usage and Description"
   ]
  },
  {
   "cell_type": "markdown",
   "metadata": {},
   "source": [
    "### Setup"
   ]
  },
  {
   "cell_type": "markdown",
   "metadata": {},
   "source": [
    "This implementation is set up to allow efficient calculation of\n",
    "multiple functions $f(x)$. To do this, the format is\n",
    "class-based, with the main object taking as arguments the order of the\n",
    "Bessel function, and the number and size of the\n",
    "integration steps (see [Limitations](#Limitations) for discussion\n",
    "about how to choose these key parameters).\n",
    "\n",
    "For any general integration or transform of a function, we perform the\n",
    "following setup:"
   ]
  },
  {
   "cell_type": "code",
   "execution_count": 1,
   "metadata": {},
   "outputs": [],
   "source": [
    "from hankel import HankelTransform     # Import the basic class\n",
    "\n",
    "ht = HankelTransform(nu= 0,            # The order of the bessel function\n",
    "                     N = 120,          # Number of steps in the integration\n",
    "                     h = 0.03)         # Proxy for \"size\" of steps in integration"
   ]
  },
  {
   "cell_type": "markdown",
   "metadata": {},
   "source": [
    "Alternatively, each of the parameters has defaults, so you needn't\n",
    "pass any. The order of the bessel function will be\n",
    "defined by the problem at hand, while the other arguments typically\n",
    "require some exploration to set them optimally.\n"
   ]
  },
  {
   "cell_type": "markdown",
   "metadata": {},
   "source": [
    "### Integration"
   ]
  },
  {
   "cell_type": "markdown",
   "metadata": {},
   "source": [
    "A Hankel-type integral is the integral\n",
    "\n",
    "$$ \\int_0^\\infty f(x) J_\\nu(x) dx. $$\n",
    "\n",
    "Having set up our transform with ``nu = 0``, we may wish to perform\n",
    "this integral for $f(x) = 1$. To do this, we do the\n",
    "following:"
   ]
  },
  {
   "cell_type": "code",
   "execution_count": 3,
   "metadata": {},
   "outputs": [
    {
     "data": {
      "text/plain": [
       "(1.0000000000003486, -9.8381428368537518e-15)"
      ]
     },
     "execution_count": 3,
     "metadata": {},
     "output_type": "execute_result"
    }
   ],
   "source": [
    "# Create a function which is identically 1.\n",
    "f = lambda x : 1   \n",
    "ht.integrate(f)"
   ]
  },
  {
   "cell_type": "markdown",
   "metadata": {},
   "source": [
    "The correct answer is 1, so we have done quite well. The second\n",
    "element of the returned result is an estimate of the\n",
    "error (it is the last term in the summation). The error estimate can\n",
    "be omitted using the argument ``ret_err=False``.\n",
    "\n",
    "We may now wish to integrate a different function, say $x/(x^2 + 1)$.\n",
    "We can do this directly with the same object,\n",
    "without re-instantiating (avoiding unnecessary recalculation):"
   ]
  },
  {
   "cell_type": "code",
   "execution_count": 4,
   "metadata": {},
   "outputs": [
    {
     "data": {
      "text/plain": [
       "(0.42098875721567186, -2.6150757700135774e-17)"
      ]
     },
     "execution_count": 4,
     "metadata": {},
     "output_type": "execute_result"
    }
   ],
   "source": [
    "f = lambda x : x/(x**2 + 1)\n",
    "ht.integrate(f)"
   ]
  },
  {
   "cell_type": "markdown",
   "metadata": {},
   "source": [
    "The analytic answer here is $K_0(1) = 0.4210$. The accuracy could be\n",
    "increased by creating ``ht`` with a higher number\n",
    "of steps ``N``, and lower stepsize ``h`` (see [Limitations](#Limitations))."
   ]
  },
  {
   "cell_type": "markdown",
   "metadata": {},
   "source": [
    "### Transforms"
   ]
  },
  {
   "cell_type": "markdown",
   "metadata": {},
   "source": [
    "The Hankel transform is defined as\n",
    "\n",
    "$$ F_\\nu(k) = \\int_0^\\infty f(r) J_\\nu(kr) r dr. $$\n",
    "\n",
    "We see that the Hankel-type integral is the Hankel transform of\n",
    "$f(r)/r$ with $k=1$. To perform this more general\n",
    "transform, we must supply the $k$ values. Again, let's use our\n",
    "previous function, $x/(x^2 + 1)$. \n",
    "\n",
    "First we'll import some libraries to help us visualise:"
   ]
  },
  {
   "cell_type": "code",
   "execution_count": 7,
   "metadata": {},
   "outputs": [],
   "source": [
    "import numpy as np              # Import numpy\n",
    "import matplotlib.pyplot as plt\n",
    "%matplotlib inline"
   ]
  },
  {
   "cell_type": "markdown",
   "metadata": {},
   "source": [
    "Now do the transform,"
   ]
  },
  {
   "cell_type": "code",
   "execution_count": null,
   "metadata": {},
   "outputs": [],
   "source": [
    "k = np.logspace(-1,1,50)        # Create a log-spaced array of k from 0.1 to 10.\n",
    "Fk = ht.transform(f,k,ret_err=False) # Return the transform of f at k."
   ]
  },
  {
   "cell_type": "markdown",
   "metadata": {},
   "source": [
    "and finally plot it:"
   ]
  },
  {
   "cell_type": "code",
   "execution_count": 11,
   "metadata": {},
   "outputs": [
    {
     "data": {
      "image/png": "[encoded data removed]",
      "text/plain": [
       "<matplotlib.figure.Figure at 0x7f1317e10c50>"
      ]
     },
     "metadata": {},
     "output_type": "display_data"
    }
   ],
   "source": [
    "plt.plot(k,Fk)\n",
    "plt.xscale('log')\n",
    "plt.yscale('log')\n",
    "plt.ylabel(r\"$F_0(k)$\")\n",
    "plt.xlabel(r\"$k$\")\n",
    "plt.show()"
   ]
  },
  {
   "cell_type": "markdown",
   "metadata": {},
   "source": [
    "### Fourier Transforms"
   ]
  },
  {
   "cell_type": "markdown",
   "metadata": {},
   "source": [
    "One of the most common applications of the Hankel transform is to\n",
    "solve the [radially symmetric n-dimensional Fourier\n",
    "  transform](https://en.wikipedia.org/wiki/Hankel_transform#Relation_to_the_Fourier_transform_.28radially_symmetric_case_in_n-dimensions.29):\n",
    "\n",
    "$$ F(k) = \\frac{(2\\pi)^{n/2}}{k^{n/2-1}} \\int_0^\\infty r^{n/2-1} f(r) J_{n/2-1}(kr)r dr.$$\n",
    "\n",
    "We provide a specific class to do this transform, which takes into\n",
    "account the various normalisations and substitutions\n",
    "required, and also provides the inverse transform. The procedure is\n",
    "similar to the basic ``HankelTransform``, but we\n",
    "provide the number of dimensions, rather than the Bessel order\n",
    "directly. \n",
    "\n",
    "Say we wish to find the Fourier transform of\n",
    "$f(r) = 1/r$ in 3 dimensions:"
   ]
  },
  {
   "cell_type": "code",
   "execution_count": 12,
   "metadata": {},
   "outputs": [],
   "source": [
    "# Import the Symmetric Fourier Transform class\n",
    "from hankel import SymmetricFourierTransform\n",
    "\n",
    "# Create our transform object, similar to HankelTransform,\n",
    "# but with ndim specified instead of nu.\n",
    "ft = SymmetricFourierTransform(ndim=3, N = 200, h = 0.03)\n",
    "\n",
    "# Create our kernel function to be transformed.\n",
    "f = lambda r : 1./r\n",
    "\n",
    "# Perform the transform\n",
    "Fk = ft.transform(f,k, ret_err=False)"
   ]
  },
  {
   "cell_type": "code",
   "execution_count": 13,
   "metadata": {},
   "outputs": [
    {
     "data": {
      "image/png": "[encoded data removed]",
      "text/plain": [
       "<matplotlib.figure.Figure at 0x7f1317e826d0>"
      ]
     },
     "metadata": {},
     "output_type": "display_data"
    }
   ],
   "source": [
    "plt.plot(k,Fk)\n",
    "plt.xscale('log')\n",
    "plt.yscale('log')\n",
    "plt.ylabel(r\"$\\mathcal{F}(k)$\")\n",
    "plt.xlabel(r\"$k$\")\n",
    "plt.show()"
   ]
  },
  {
   "cell_type": "markdown",
   "metadata": {},
   "source": [
    "To do the inverse transformation (which is different by a\n",
    "normalisation constant), merely supply ``inverse=True`` to\n",
    "the ``.transform()`` method."
   ]
  },
  {
   "cell_type": "markdown",
   "metadata": {},
   "source": [
    "## Limitations"
   ]
  },
  {
   "cell_type": "markdown",
   "metadata": {},
   "source": [
    "### Efficiency\n",
    "\n",
    "An implementation-specific limitation is that the method is not\n",
    "perfectly efficient in all cases. Care has been taken\n",
    "to make it efficient in the general sense. However, for specific\n",
    "orders and functions, simplifications may be made\n",
    "which reduce the number of trigonometric functions evaluated. For\n",
    "instance, for a zeroth-order spherical transform,\n",
    "the weights are analytically always identically 1."
   ]
  },
  {
   "cell_type": "markdown",
   "metadata": {},
   "source": [
    "### Lower-Bound Convergence\n",
    "\n",
    "In terms of limitations of the method, they are very dependent on the\n",
    "form of the function chosen. Notably, functions\n",
    "which tend to infinity at x=0 will be poorly approximated in this\n",
    "method, and will be highly dependent on the step-size\n",
    "parameter, as the information at low-x will be lost between 0 and the\n",
    "first step. As an example consider the simple\n",
    "function $f(x) = 1/\\sqrt{x}$ with a 1/2 order bessel function. The\n",
    "  total integrand tends to 1 at $x=0$, rather than 0:"
   ]
  },
  {
   "cell_type": "code",
   "execution_count": 14,
   "metadata": {},
   "outputs": [
    {
     "data": {
      "text/plain": [
       "(1.2336282257874065, -2.864861354876958e-16)"
      ]
     },
     "execution_count": 14,
     "metadata": {},
     "output_type": "execute_result"
    }
   ],
   "source": [
    "f = lambda x: 1/np.sqrt(x)\n",
    "h = HankelTransform(0.5,120,0.03)\n",
    "h.integrate(f)"
   ]
  },
  {
   "cell_type": "markdown",
   "metadata": {},
   "source": [
    "The true answer is $\\sqrt{\\pi/2}$, which is a difference of about 1.6%. Modifying the step size and number of steps to gain accuracy we find:"
   ]
  },
  {
   "cell_type": "code",
   "execution_count": 15,
   "metadata": {},
   "outputs": [
    {
     "data": {
      "text/plain": [
       "(1.2523045155005623, -0.0012281146007915768)"
      ]
     },
     "execution_count": 15,
     "metadata": {},
     "output_type": "execute_result"
    }
   ],
   "source": [
    "h = HankelTransform(0.5,700,0.001)\n",
    "h.integrate(f)"
   ]
  },
  {
   "cell_type": "markdown",
   "metadata": {},
   "source": [
    "This has much better than percent accuracy, but uses 5 times the\n",
    "  amount of steps. The key here is the reduction of h\n",
    "to \"get inside\" the low-x information. This limitation is amplified\n",
    "  for cases where the function really does tend to\n",
    "infinity at $x=0$, rather than a finite positive number, such as $f(x)= 1/x$. Clearly the integral becomes non-convergent for some $f(x)$, in which case the numerical approximation can never  be correct."
   ]
  },
  {
   "cell_type": "markdown",
   "metadata": {},
   "source": [
    "### Upper-Bound Convergence\n",
    "\n",
    "If the function $f(x)$ is monotonically increasing, or at least very slowly decreasing, then higher and higher zeros of the Bessel function will be required to capture the convergence.\n",
    "Often, it will be the case that if this is so, the amplitude of the function is low at low $x$, so that the step-size ``h`` can be increased to facilitate this. Otherwise, the number of steps ``N`` can be increased.\n",
    "\n",
    "For example, the 1/2-order integral supports functions that are increasing up to $f(x) = x^{0.5}$ and no more (otherwise they diverge). Let's use $f(x) = x^{0.4}$ as an example of a slowly converging function, and use our \"hi-res\" setup from the previous section:"
   ]
  },
  {
   "cell_type": "code",
   "execution_count": 16,
   "metadata": {},
   "outputs": [
    {
     "data": {
      "text/plain": [
       "(0.5367827792529053, -1.0590954621251101)"
      ]
     },
     "execution_count": 16,
     "metadata": {},
     "output_type": "execute_result"
    }
   ],
   "source": [
    "h = HankelTransform(0.5,700,0.001)\n",
    "f = lambda x : x**0.4\n",
    "h.integrate(f)"
   ]
  },
  {
   "cell_type": "markdown",
   "metadata": {},
   "source": [
    "The analytic result is 0.8421449 -- very far from our result. Note that in this case, the error estimate itself is a good indication that we haven't reached convergence. We could try\n",
    "  increasing ``N``:"
   ]
  },
  {
   "cell_type": "code",
   "execution_count": 17,
   "metadata": {},
   "outputs": [
    {
     "name": "stderr",
     "output_type": "stream",
     "text": [
      "hankel/hankel.py:72: RuntimeWarning: overflow encountered in sinh\n  a = (np.pi*t*np.cosh(t) + np.sinh(np.pi*np.sinh(t)))/(1.0 + np.cosh(np.pi*np.sinh(t)))\nhankel/hankel.py:72: RuntimeWarning: overflow encountered in cosh\n  a = (np.pi*t*np.cosh(t) + np.sinh(np.pi*np.sinh(t)))/(1.0 + np.cosh(np.pi*np.sinh(t)))\nhankel/hankel.py:72: RuntimeWarning: invalid value encountered in divide\n  a = (np.pi*t*np.cosh(t) + np.sinh(np.pi*np.sinh(t)))/(1.0 + np.cosh(np.pi*np.sinh(t)))\n"
     ]
    },
    {
     "data": {
      "text/plain": [
       "7.1335646079084825e-07"
      ]
     },
     "execution_count": 17,
     "metadata": {},
     "output_type": "execute_result"
    }
   ],
   "source": [
    "h = HankelTransform(0.5,10000,0.001)\n",
    "h.integrate(f,ret_err=False)/0.8421449 -1"
   ]
  },
  {
   "cell_type": "markdown",
   "metadata": {},
   "source": [
    "This is very accurate, but quite slow. Alternatively, we could try\n",
    "increasing ``h``:"
   ]
  },
  {
   "cell_type": "code",
   "execution_count": 18,
   "metadata": {},
   "outputs": [
    {
     "data": {
      "text/plain": [
       "0.00045613842025526985"
      ]
     },
     "execution_count": 18,
     "metadata": {},
     "output_type": "execute_result"
    }
   ],
   "source": [
    "h = HankelTransform(0.5,700,0.03)\n",
    "h.integrate(f,ret_err=False)/0.8421449 -1"
   ]
  },
  {
   "cell_type": "markdown",
   "metadata": {},
   "source": [
    "Not quite as accurate, but still far better than a percent for a\n",
    "hundredth of the cost!\n",
    "\n",
    "There are some notebooks in the ``devel/`` directory which toy with some known integrals, and show how accurate different choices of ``N`` and ``h`` are. They are interesting to view to see some of the patterns.\n"
   ]
  },
  {
   "cell_type": "code",
   "execution_count": null,
   "metadata": {},
   "outputs": [],
   "source": [
    ""
   ]
  }
 ],
 "metadata": {
  "kernelspec": {
   "display_name": "Python 2",
   "language": "python",
   "name": "python2"
  },
  "language_info": {
   "codemirror_mode": {
    "name": "ipython",
    "version": 2.0
   },
   "file_extension": ".py",
   "mimetype": "text/x-python",
   "name": "python",
   "nbconvert_exporter": "python",
   "pygments_lexer": "ipython2",
   "version": "2.7.6"
  }
 },
 "nbformat": 4,
 "nbformat_minor": 0
}