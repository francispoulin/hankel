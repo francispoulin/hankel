{
 "cells": [
  {
   "cell_type": "markdown",
   "metadata": {},
   "source": [
    "# Testing Forward and Inverse Hankel Transform #\n",
    "\n",
    "This is a simple demo to show how to compute the forward and inverse Hankel transform.\n",
    "\n",
    "We use the function $f(r) = 1/r$ as an example function.  This function is unbounded at $r=0$ and therefore causes problems with convergence at the origin. "
   ]
  },
  {
   "cell_type": "code",
   "execution_count": 16,
   "metadata": {
    "ExecuteTime": {
     "end_time": "2017-02-13T15:11:15.979264",
     "start_time": "2017-02-13T15:11:15.974688"
    },
    "collapsed": false
   },
   "outputs": [],
   "source": [
    "# Import libraries\n",
    "\n",
    "import numpy as np                                                      # To define grid\n",
    "from hankel import HankelTransform                                      # Transforms\n",
    "\n",
    "from scipy.interpolate import InterpolatedUnivariateSpline as spline    # Spline\n",
    "\n",
    "import matplotlib.pyplot as plt                                         # Plotting\n",
    "%matplotlib inline"
   ]
  },
  {
   "cell_type": "code",
   "execution_count": 2,
   "metadata": {
    "ExecuteTime": {
     "end_time": "2017-02-13T15:05:59.796435",
     "start_time": "2017-02-13T15:05:59.791763"
    },
    "collapsed": false
   },
   "outputs": [],
   "source": [
    "# Define grid\n",
    "\n",
    "r = np.linspace(1e-2,1,1000)                       # Define a physical grid\n",
    "k = np.logspace(-3,2,100)                          # Define a spectral grid"
   ]
  },
  {
   "cell_type": "code",
   "execution_count": 3,
   "metadata": {
    "ExecuteTime": {
     "end_time": "2017-02-13T15:06:01.990860",
     "start_time": "2017-02-13T15:06:01.981331"
    },
    "collapsed": false
   },
   "outputs": [],
   "source": [
    "# Compute Forward Hankel transform\n",
    "\n",
    "f    = lambda x : 1/x                              # Sample Function\n",
    "h    = HankelTransform(nu=0,N=1000,h=0.005)        # Create the HankelTransform instance, order zero\n",
    "hhat = h.transform(f,k,ret_err=False)              # Return the transform of f at k."
   ]
  },
  {
   "cell_type": "code",
   "execution_count": 4,
   "metadata": {
    "ExecuteTime": {
     "end_time": "2017-02-13T15:06:03.890851",
     "start_time": "2017-02-13T15:06:03.855858"
    },
    "collapsed": false
   },
   "outputs": [],
   "source": [
    "# Compute Inverse Hankel transform\n",
    "\n",
    "hhat_sp = spline(k, hhat)                              # Define a spline to approximate transform\n",
    "f_new = h.transform(hhat_sp, r, False, inverse=True)  # Compute the inverse transform"
   ]
  },
  {
   "cell_type": "code",
   "execution_count": 15,
   "metadata": {
    "ExecuteTime": {
     "end_time": "2017-02-13T15:10:21.664071",
     "start_time": "2017-02-13T15:10:21.140026"
    },
    "collapsed": false
   },
   "outputs": [
    {
     "data": {
      "image/png": "[encoded data removed]",
      "text/plain": [
       "<matplotlib.figure.Figure at 0x7f1961e299d0>"
      ]
     },
     "metadata": {},
     "output_type": "display_data"
    }
   ],
   "source": [
    "# Plot the original function and the transformed functions\n",
    "fig,ax = plt.subplots(2,1,sharex=True,gridspec_kw={\"hspace\":0})\n",
    "\n",
    "ax[0].semilogy(r,f(r), linewidth=2,label='original')\n",
    "ax[0].semilogy(r,f_new,ls='--',linewidth=2,label='transformed')\n",
    "ax[0].grid('on')\n",
    "ax[0].legend(loc='best')\n",
    "#ax[0].axis('on')\n",
    "\n",
    "ax[1].plot(r,np.abs(f(r)/f_new-1))\n",
    "ax[1].set_yscale('log')\n",
    "ax[1].set_ylim(None,30)\n",
    "ax[1].grid('on')\n",
    "ax[1].set_ylabel(\"Rel. Diff.\")\n",
    "plt.show()"
   ]
  },
  {
   "cell_type": "markdown",
   "metadata": {},
   "source": [
    "In practice, there are three aspects that affect the accuracy of the round-trip transformed function, other than the features of the function itself: \n",
    "\n",
    "1. the value of ``N``, which controls the the upper limit of the integral (and must be high enough for convergence), \n",
    "2. the value of ``h``, which controls the resolution of the array used to do integration. Most importantly, controls the position of the *first sample* of the integrand. In a function such as $1/r$, or something steeper, this must be small to capture the large amount of information at low $r$.\n",
    "3. the resolution/range of $k$, which is used to define the function which is inverse-transformed."
   ]
  }
 ],
 "metadata": {
  "kernelspec": {
   "display_name": "Python [default]",
   "language": "python",
   "name": "python2"
  },
  "language_info": {
   "codemirror_mode": {
    "name": "ipython",
    "version": 2
   },
   "file_extension": ".py",
   "mimetype": "text/x-python",
   "name": "python",
   "nbconvert_exporter": "python",
   "pygments_lexer": "ipython2",
   "version": "2.7.13"
  },
  "latex_envs": {
   "bibliofile": "biblio.bib",
   "cite_by": "apalike",
   "current_citInitial": 1,
   "eqLabelWithNumbers": true,
   "eqNumInitial": 0
  },
  "nav_menu": {},
  "toc": {
   "navigate_menu": true,
   "number_sections": true,
   "sideBar": true,
   "threshold": 6,
   "toc_cell": false,
   "toc_section_display": "block",
   "toc_window_display": true
  }
 },
 "nbformat": 4,
 "nbformat_minor": 0
}
